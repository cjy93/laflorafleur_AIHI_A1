{
 "cells": [
  {
   "cell_type": "markdown",
   "metadata": {},
   "source": [
    "## This notebook demonstrates how to dynamically update the intent, entities and dialog flow of Watson Assistant"
   ]
  },
  {
   "cell_type": "markdown",
   "metadata": {},
   "source": [
    "## Update credentials"
   ]
  },
  {
   "cell_type": "code",
   "execution_count": 1,
   "metadata": {},
   "outputs": [],
   "source": [
    "import json\n",
    "from ibm_watson import AssistantV1\n",
    "from ibm_cloud_sdk_core.authenticators import IAMAuthenticator\n",
    "\n",
    "authenticator = IAMAuthenticator('')\n",
    "assistant = AssistantV1(\n",
    "            version='2018-07-10',\n",
    "            authenticator=authenticator)\n",
    "assistant.set_service_url('')\n",
    "workspace_id = ''"
   ]
  },
  {
   "cell_type": "markdown",
   "metadata": {},
   "source": [
    "## Create Intent"
   ]
  },
  {
   "cell_type": "code",
   "execution_count": 2,
   "metadata": {},
   "outputs": [
    {
     "name": "stdout",
     "output_type": "stream",
     "text": [
      "{\n",
      "  \"intent\": \"test_intent\",\n",
      "  \"description\": \"Test intent.\"\n",
      "}\n",
      "{\n",
      "  \"intent\": \"test_intent\",\n",
      "  \"examples\": [\n",
      "    {\n",
      "      \"text\": \"good morning\"\n",
      "    }\n",
      "  ],\n",
      "  \"description\": \"Test intent.\"\n",
      "}\n"
     ]
    }
   ],
   "source": [
    "examples = [{\"text\": \"good morning\"}]\n",
    "response = assistant.create_intent(\n",
    "    workspace_id=workspace_id,\n",
    "    intent='test_intent',\n",
    "    description='Test intent.',\n",
    "    examples=examples).get_result()\n",
    "print(json.dumps(response, indent=2))\n",
    "\n",
    "response = assistant.get_intent(\n",
    "    workspace_id=workspace_id, intent='test_intent', export=True).get_result()\n",
    "print(json.dumps(response, indent=2))"
   ]
  },
  {
   "cell_type": "markdown",
   "metadata": {},
   "source": [
    "## List intents"
   ]
  },
  {
   "cell_type": "code",
   "execution_count": 3,
   "metadata": {},
   "outputs": [
    {
     "name": "stdout",
     "output_type": "stream",
     "text": [
      "{\n",
      "  \"intents\": [\n",
      "    {\n",
      "      \"intent\": \"covid\",\n",
      "      \"examples\": [\n",
      "        {\n",
      "          \"text\": \"Latest news on Covid\"\n",
      "        },\n",
      "        {\n",
      "          \"text\": \"I want to know more about Covid\"\n",
      "        },\n",
      "        {\n",
      "          \"text\": \"Covid-19\"\n",
      "        },\n",
      "        {\n",
      "          \"text\": \"What is Covid\"\n",
      "        },\n",
      "        {\n",
      "          \"text\": \"Corona Virus\"\n",
      "        }\n",
      "      ],\n",
      "      \"description\": \"know more about Covid-19\"\n",
      "    },\n",
      "    {\n",
      "      \"intent\": \"order\",\n",
      "      \"examples\": [\n",
      "        {\n",
      "          \"text\": \"order\"\n",
      "        },\n",
      "        {\n",
      "          \"text\": \"I would like to place the order\"\n",
      "        },\n",
      "        {\n",
      "          \"text\": \"Place the order\"\n",
      "        },\n",
      "        {\n",
      "          \"text\": \"I want to place the order\"\n",
      "        },\n",
      "        {\n",
      "          \"text\": \"I need to place an order\"\n",
      "        }\n",
      "      ],\n",
      "      \"description\": \"\"\n",
      "    },\n",
      "    {\n",
      "      \"intent\": \"stop\",\n",
      "      \"examples\": [\n",
      "        {\n",
      "          \"text\": \"That's it\"\n",
      "        },\n",
      "        {\n",
      "          \"text\": \"I am done\"\n",
      "        },\n",
      "        {\n",
      "          \"text\": \"Nothing else\"\n",
      "        },\n",
      "        {\n",
      "          \"text\": \"This is all\"\n",
      "        },\n",
      "        {\n",
      "          \"text\": \"not now\"\n",
      "        },\n",
      "        {\n",
      "          \"text\": \"no\"\n",
      "        },\n",
      "        {\n",
      "          \"text\": \"I will get back later\"\n",
      "        },\n",
      "        {\n",
      "          \"text\": \"not ready\"\n",
      "        },\n",
      "        {\n",
      "          \"text\": \"thats it\"\n",
      "        },\n",
      "        {\n",
      "          \"text\": \"nothing\"\n",
      "        },\n",
      "        {\n",
      "          \"text\": \"That is it\"\n",
      "        }\n",
      "      ],\n",
      "      \"description\": \"\"\n",
      "    },\n",
      "    {\n",
      "      \"intent\": \"test_intent\",\n",
      "      \"examples\": [\n",
      "        {\n",
      "          \"text\": \"good morning\"\n",
      "        }\n",
      "      ],\n",
      "      \"description\": \"Test intent.\"\n",
      "    }\n",
      "  ],\n",
      "  \"pagination\": {\n",
      "    \"refresh_url\": \"/instances/b7500039-8431-48b0-8af7-d6cae088f217/v1/workspaces/977f8c02-24cf-4f6f-9411-978e79f643d4/intents?version=2018-07-10&export=true\"\n",
      "  }\n",
      "}\n"
     ]
    }
   ],
   "source": [
    "response = assistant.list_intents(\n",
    "    workspace_id=workspace_id, export=True).get_result()\n",
    "print(json.dumps(response, indent=2))"
   ]
  },
  {
   "cell_type": "markdown",
   "metadata": {},
   "source": [
    "## Update intent"
   ]
  },
  {
   "cell_type": "code",
   "execution_count": 4,
   "metadata": {},
   "outputs": [
    {
     "name": "stdout",
     "output_type": "stream",
     "text": [
      "{\n",
      "  \"intent\": \"updated_test_intent\",\n",
      "  \"description\": \"Updated test intent.\"\n",
      "}\n"
     ]
    }
   ],
   "source": [
    "response = assistant.update_intent(\n",
    "    workspace_id=workspace_id,\n",
    "    intent='test_intent',\n",
    "    new_intent='updated_test_intent',\n",
    "    new_description='Updated test intent.').get_result()\n",
    "print(json.dumps(response, indent=2))"
   ]
  },
  {
   "cell_type": "markdown",
   "metadata": {},
   "source": [
    "## Delete intent"
   ]
  },
  {
   "cell_type": "code",
   "execution_count": 5,
   "metadata": {},
   "outputs": [
    {
     "name": "stdout",
     "output_type": "stream",
     "text": [
      "{}\n"
     ]
    }
   ],
   "source": [
    "response=assistant.delete_intent(\n",
    "    workspace_id=workspace_id,\n",
    "    intent='updated_test_intent'\n",
    ").get_result()\n",
    "\n",
    "print(json.dumps(response, indent=2))"
   ]
  },
  {
   "cell_type": "markdown",
   "metadata": {},
   "source": [
    "## Create entity"
   ]
  },
  {
   "cell_type": "code",
   "execution_count": 6,
   "metadata": {},
   "outputs": [
    {
     "name": "stdout",
     "output_type": "stream",
     "text": [
      "{\n",
      "  \"entity\": \"Location\"\n",
      "}\n"
     ]
    }
   ],
   "source": [
    "response=assistant.create_entity(\n",
    "    workspace_id=workspace_id,\n",
    "    entity='Location',\n",
    "    values=[\n",
    "        {'value': 'US'},\n",
    "        {'value': 'India'},\n",
    "        {'value': 'UK'}\n",
    "    ]\n",
    ").get_result()\n",
    "\n",
    "print(json.dumps(response, indent=2))"
   ]
  },
  {
   "cell_type": "markdown",
   "metadata": {},
   "source": [
    "## Update entity"
   ]
  },
  {
   "cell_type": "code",
   "execution_count": 7,
   "metadata": {},
   "outputs": [
    {
     "name": "stdout",
     "output_type": "stream",
     "text": [
      "{\n",
      "  \"entity\": \"Location\",\n",
      "  \"created\": \"2020-08-20T09:20:21.631Z\",\n",
      "  \"updated\": \"2020-08-20T09:20:22.019Z\",\n",
      "  \"description\": \"updated data\"\n",
      "}\n"
     ]
    }
   ],
   "source": [
    "response=assistant.update_entity(\n",
    "    workspace_id=workspace_id,\n",
    "    entity='Location',\n",
    "    new_values=[\n",
    "        {'value': 'Germany'},\n",
    "        {'value': 'Brazil'},\n",
    "        {'value': 'Spain'}\n",
    "    ],\n",
    "    append=\"true\",\n",
    "    include_audit=\"true\",\n",
    "    new_description='updated data').get_result()\n",
    "print(json.dumps(response, indent=2))"
   ]
  },
  {
   "cell_type": "markdown",
   "metadata": {},
   "source": [
    "## List the entities"
   ]
  },
  {
   "cell_type": "code",
   "execution_count": 8,
   "metadata": {},
   "outputs": [
    {
     "name": "stdout",
     "output_type": "stream",
     "text": [
      "{\n",
      "  \"entities\": [\n",
      "    {\n",
      "      \"entity\": \"covid\",\n",
      "      \"fuzzy_match\": true\n",
      "    },\n",
      "    {\n",
      "      \"entity\": \"Location\",\n",
      "      \"description\": \"updated data\"\n",
      "    },\n",
      "    {\n",
      "      \"entity\": \"products\",\n",
      "      \"fuzzy_match\": true\n",
      "    },\n",
      "    {\n",
      "      \"entity\": \"stop\",\n",
      "      \"fuzzy_match\": true\n",
      "    }\n",
      "  ],\n",
      "  \"pagination\": {\n",
      "    \"refresh_url\": \"/instances/b7500039-8431-48b0-8af7-d6cae088f217/v1/workspaces/977f8c02-24cf-4f6f-9411-978e79f643d4/entities?version=2018-07-10\"\n",
      "  }\n",
      "}\n"
     ]
    }
   ],
   "source": [
    "response = assistant.list_entities(workspace_id=workspace_id).get_result()\n",
    "print(json.dumps(response, indent=2))"
   ]
  },
  {
   "cell_type": "markdown",
   "metadata": {},
   "source": [
    "## Delete entity"
   ]
  },
  {
   "cell_type": "code",
   "execution_count": 9,
   "metadata": {},
   "outputs": [
    {
     "name": "stdout",
     "output_type": "stream",
     "text": [
      "{}\n"
     ]
    }
   ],
   "source": [
    "response=assistant.delete_entity(\n",
    "    workspace_id=workspace_id,\n",
    "    entity='Location'\n",
    ").get_result()\n",
    "\n",
    "print(json.dumps(response, indent=2))"
   ]
  },
  {
   "cell_type": "code",
   "execution_count": 10,
   "metadata": {},
   "outputs": [
    {
     "name": "stdout",
     "output_type": "stream",
     "text": [
      "{\n",
      "  \"entities\": [\n",
      "    {\n",
      "      \"entity\": \"covid\",\n",
      "      \"fuzzy_match\": true\n",
      "    },\n",
      "    {\n",
      "      \"entity\": \"products\",\n",
      "      \"fuzzy_match\": true\n",
      "    },\n",
      "    {\n",
      "      \"entity\": \"stop\",\n",
      "      \"fuzzy_match\": true\n",
      "    }\n",
      "  ],\n",
      "  \"pagination\": {\n",
      "    \"refresh_url\": \"/instances/b7500039-8431-48b0-8af7-d6cae088f217/v1/workspaces/977f8c02-24cf-4f6f-9411-978e79f643d4/entities?version=2018-07-10\"\n",
      "  }\n",
      "}\n"
     ]
    }
   ],
   "source": [
    "response = assistant.list_entities(workspace_id=workspace_id).get_result()\n",
    "print(json.dumps(response, indent=2))"
   ]
  },
  {
   "cell_type": "code",
   "execution_count": null,
   "metadata": {},
   "outputs": [],
   "source": []
  }
 ],
 "metadata": {
  "kernelspec": {
   "display_name": "Python 3",
   "language": "python",
   "name": "python3"
  },
  "language_info": {
   "codemirror_mode": {
    "name": "ipython",
    "version": 3
   },
   "file_extension": ".py",
   "mimetype": "text/x-python",
   "name": "python",
   "nbconvert_exporter": "python",
   "pygments_lexer": "ipython3",
   "version": "3.7.4"
  }
 },
 "nbformat": 4,
 "nbformat_minor": 2
}
